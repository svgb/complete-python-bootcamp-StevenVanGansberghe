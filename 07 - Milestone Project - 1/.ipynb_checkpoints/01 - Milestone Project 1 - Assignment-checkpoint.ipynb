{
 "cells": [
  {
   "cell_type": "markdown",
   "metadata": {},
   "source": [
    "# Milestone Project 1\n",
    "## Congratulations on making it to your first milestone!\n",
    "You've already learned a ton and are ready to work on a real project.\n",
    "\n",
    "Your assignment: Create a Tic Tac Toe game. You are free to use any IDE you like.\n",
    "\n",
    "Here are the requirements:\n",
    "\n",
    "* 2 players should be able to play the game (both sitting at the same computer)\n",
    "* The board should be printed out every time a player makes a move\n",
    "* You should be able to accept input of the player position and then place a symbol on the board\n",
    "\n",
    "Feel free to use Google to help you figure anything out (but don't just Google \"Tic Tac Toe in Python\" otherwise you won't learn anything!) Keep in mind that this project can take anywhere between several hours to several days.\n",
    "\n",
    "There are 4 Jupyter Notebooks related to this assignment:\n",
    "\n",
    "* This Assignment Notebook\n",
    "* A \"Walkthrough Steps Workbook\" Notebook\n",
    "* A \"Complete Walkthrough Solution\" Notebook\n",
    "* An \"Advanced Solution\" Notebook\n",
    "\n",
    "I encourage you to just try to start the project on your own without referencing any of the notebooks. If you get stuck, check out the next lecture which is a text lecture with helpful hints and steps. If you're still stuck after that, then check out the Walkthrough Steps Workbook, which breaks up the project in steps for you to solve. Still stuck? Then check out the Complete Walkthrough Solution video for more help on approaching the project!"
   ]
  },
  {
   "cell_type": "markdown",
   "metadata": {},
   "source": [
    "There are parts of this that will be a struggle...and that is good! I have complete faith that if you have made it this far through the course you have all the tools and knowledge to tackle this project. Remember, it's totally open book, so take your time, do a little research, and remember:\n",
    "\n",
    "## HAVE FUN!\n",
    "\n",
    "### Bord maken"
   ]
  },
  {
   "cell_type": "code",
   "execution_count": 1,
   "metadata": {},
   "outputs": [
    {
     "name": "stdout",
     "output_type": "stream",
     "text": [
      " X | O | X\n",
      "-----------\n",
      " O | X | O\n",
      "-----------\n",
      " X | O | X\n"
     ]
    }
   ],
   "source": [
    "from IPython.display import clear_output\n",
    "\n",
    "def toon_bord(bord):\n",
    "    clear_output()\n",
    "    \n",
    "    print(' ' + bord[7] + ' | ' + bord[8] + ' | ' + bord[9])\n",
    "    print('-----------')\n",
    "    print(' ' + bord[4] + ' | ' + bord[5] + ' | ' + bord[6])\n",
    "    print('-----------')\n",
    "    print(' ' + bord[1] + ' | ' + bord[2] + ' | ' + bord[3])\n",
    "\n",
    "test = ['#','X','O','X','O','X','O','X','O','X']\n",
    "toon_bord(test)"
   ]
  },
  {
   "cell_type": "markdown",
   "metadata": {},
   "source": [
    "### Kies team"
   ]
  },
  {
   "cell_type": "code",
   "execution_count": 2,
   "metadata": {},
   "outputs": [],
   "source": [
    "def kies_team():\n",
    "    team = ''\n",
    "    \n",
    "    while not (team == 'X' or team == 'O'):\n",
    "        team = input('Speler 1: X of O? ').upper()\n",
    "        \n",
    "    if team == 'X':\n",
    "        return('X', 'O')\n",
    "    else:\n",
    "        return('O', 'X')"
   ]
  },
  {
   "cell_type": "code",
   "execution_count": 3,
   "metadata": {},
   "outputs": [
    {
     "name": "stdout",
     "output_type": "stream",
     "text": [
      "Speler 1: X of O? X\n"
     ]
    },
    {
     "data": {
      "text/plain": [
       "('X', 'O')"
      ]
     },
     "execution_count": 3,
     "metadata": {},
     "output_type": "execute_result"
    }
   ],
   "source": [
    "kies_team()"
   ]
  },
  {
   "cell_type": "markdown",
   "metadata": {},
   "source": [
    "### Plaats X of O op bord"
   ]
  },
  {
   "cell_type": "code",
   "execution_count": 41,
   "metadata": {},
   "outputs": [],
   "source": [
    "def plaats_letter(bord, team, beurt_pos):\n",
    "    bord[beurt_pos] = team"
   ]
  },
  {
   "cell_type": "code",
   "execution_count": 42,
   "metadata": {},
   "outputs": [
    {
     "name": "stdout",
     "output_type": "stream",
     "text": [
      " X | O | X\n",
      "-----------\n",
      " O | X | t\n",
      "-----------\n",
      " X | O | X\n"
     ]
    }
   ],
   "source": [
    "plaats_letter(test, 't', 6)\n",
    "toon_bord(test)"
   ]
  },
  {
   "cell_type": "markdown",
   "metadata": {},
   "source": [
    "### Kijk of iemand heeft gewonnen"
   ]
  },
  {
   "cell_type": "code",
   "execution_count": 6,
   "metadata": {},
   "outputs": [],
   "source": [
    "def gewonnen(bord, team):\n",
    "    return ((bord[7] == team and bord[8] == team and bord[9] == team) or \n",
    "    (bord[4] == team and bord[5] == team and bord[6] == team) or \n",
    "    (bord[1] == team and bord[2] == team and bord[3] == team) or \n",
    "    (bord[7] == team and bord[4] == team and bord[1] == team) or \n",
    "    (bord[8] == team and bord[5] == team and bord[2] == team) or \n",
    "    (bord[9] == team and bord[6] == team and bord[3] == team) or \n",
    "    (bord[7] == team and bord[5] == team and bord[3] == team) or \n",
    "    (bord[9] == team and bord[5] == team and bord[1] == team)) "
   ]
  },
  {
   "cell_type": "code",
   "execution_count": 47,
   "metadata": {},
   "outputs": [
    {
     "data": {
      "text/plain": [
       "True"
      ]
     },
     "execution_count": 47,
     "metadata": {},
     "output_type": "execute_result"
    }
   ],
   "source": [
    "gewonnen(test, 'X')"
   ]
  },
  {
   "cell_type": "markdown",
   "metadata": {},
   "source": [
    "### Random beslist wie begint"
   ]
  },
  {
   "cell_type": "code",
   "execution_count": 8,
   "metadata": {},
   "outputs": [],
   "source": [
    "import random\n",
    "\n",
    "def beginner():\n",
    "    if random.randint(0, 1) == 0:\n",
    "        return 'Speler 2'\n",
    "    else:\n",
    "        return 'Speler 1'"
   ]
  },
  {
   "cell_type": "markdown",
   "metadata": {},
   "source": [
    "### Check of plaats al bezet is"
   ]
  },
  {
   "cell_type": "code",
   "execution_count": 9,
   "metadata": {},
   "outputs": [],
   "source": [
    "def check_vrij(bord, positie):\n",
    "    return bord[positie] == ' '"
   ]
  },
  {
   "cell_type": "markdown",
   "metadata": {},
   "source": [
    "### Check of bord vol is"
   ]
  },
  {
   "cell_type": "code",
   "execution_count": 10,
   "metadata": {},
   "outputs": [],
   "source": [
    "def check_vol(bord):\n",
    "    for i in range(1, 10):\n",
    "        if check_vrij(bord, i):\n",
    "            return False\n",
    "    return True"
   ]
  },
  {
   "cell_type": "markdown",
   "metadata": {},
   "source": [
    "### Laat speler positie kiezen"
   ]
  },
  {
   "cell_type": "code",
   "execution_count": 11,
   "metadata": {},
   "outputs": [],
   "source": [
    "def beurt_speler(bord):\n",
    "    positie = 0\n",
    "    while positie not in [1,2,3,4,5,6,7,8,9] or not check_vrij(bord, positie):\n",
    "        positie = int(input('Kies volgende plaats: (1-9) '))\n",
    "        \n",
    "    return positie"
   ]
  },
  {
   "cell_type": "markdown",
   "metadata": {},
   "source": [
    "### Vraag speler of hij opnieuw wilt spelen"
   ]
  },
  {
   "cell_type": "code",
   "execution_count": 12,
   "metadata": {},
   "outputs": [],
   "source": [
    "def replay():\n",
    "    \n",
    "    return input('Wil je nog eens spelen? Typ ja op nee: ').lower().startswith('j')"
   ]
  },
  {
   "cell_type": "markdown",
   "metadata": {},
   "source": [
    "## Het spel"
   ]
  },
  {
   "cell_type": "code",
   "execution_count": 49,
   "metadata": {},
   "outputs": [
    {
     "name": "stdout",
     "output_type": "stream",
     "text": [
      "   |   |  \n",
      "-----------\n",
      " X | X |  \n",
      "-----------\n",
      " O | O | O\n",
      "Speler 2 heeft gewonnen!\n",
      "Wil je nog eens spelen? Typ ja op nee: n\n"
     ]
    }
   ],
   "source": [
    "print('Welkom bij OXO')\n",
    "\n",
    "while True:\n",
    "    # Reset bord\n",
    "    hetBord = [' '] * 10\n",
    "    speler1_team, speler2_team = kies_team()\n",
    "    beurt = beginner()\n",
    "    print(beurt + ' mag beginnen.')\n",
    "    \n",
    "    speel_spel = input('Ben je klaar om te beginnen? Typ Ja of nee.')\n",
    "    \n",
    "    if speel_spel.lower()[0] == 'j':\n",
    "        spel = True\n",
    "    else:\n",
    "        spel = False\n",
    "\n",
    "    while spel:\n",
    "        if beurt == 'Speler 1':            \n",
    "            toon_bord(hetBord)\n",
    "            bord_positie = beurt_speler(hetBord)\n",
    "            plaats_letter(hetBord, speler1_team, bord_positie)\n",
    "\n",
    "            if gewonnen(hetBord, speler1_team):\n",
    "                toon_bord(hetBord)\n",
    "                print('Speler 1 heeft gewonnen!')\n",
    "                spel = False\n",
    "            else:\n",
    "                if check_vol(hetBord):\n",
    "                    toon_bord(hetBord)\n",
    "                    print('Het is gelijkstand!')\n",
    "                    break\n",
    "                else:\n",
    "                    beurt = 'Speler 2'\n",
    "\n",
    "        else:            \n",
    "            toon_bord(hetBord)\n",
    "            bord_positie = beurt_speler(hetBord)\n",
    "            plaats_letter(hetBord, speler2_team, bord_positie)\n",
    "\n",
    "            if gewonnen(hetBord, speler2_team):\n",
    "                toon_bord(hetBord)\n",
    "                print('Speler 2 heeft gewonnen!')\n",
    "                spel = False\n",
    "            else:\n",
    "                if check_vol(hetBord):\n",
    "                    toon_bord(hetBord)\n",
    "                    print('Het is gelijkstand!')\n",
    "                    break\n",
    "                else:\n",
    "                    beurt = 'Speler 1'\n",
    "\n",
    "\n",
    "    if not replay():\n",
    "        break"
   ]
  },
  {
   "cell_type": "code",
   "execution_count": null,
   "metadata": {},
   "outputs": [],
   "source": []
  }
 ],
 "metadata": {
  "kernelspec": {
   "display_name": "Python 3",
   "language": "python",
   "name": "python3"
  },
  "language_info": {
   "codemirror_mode": {
    "name": "ipython",
    "version": 3
   },
   "file_extension": ".py",
   "mimetype": "text/x-python",
   "name": "python",
   "nbconvert_exporter": "python",
   "pygments_lexer": "ipython3",
   "version": "3.7.4"
  }
 },
 "nbformat": 4,
 "nbformat_minor": 1
}
